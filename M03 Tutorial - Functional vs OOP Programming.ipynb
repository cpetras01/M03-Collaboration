{
 "cells": [
  {
   "cell_type": "code",
   "execution_count": 1,
   "id": "1acff8d8",
   "metadata": {},
   "outputs": [],
   "source": [
    "# M03 Tutorial - Functional vs OOP Programming\n",
    "# Coleman Petras\n",
    "# SDEV 220"
   ]
  },
  {
   "cell_type": "code",
   "execution_count": null,
   "id": "8389d138",
   "metadata": {},
   "outputs": [],
   "source": [
    "# Sort 0s, 1s, and 2s\n",
    "# Given an array of size N containing only 0s, 1s, and 2s; sort the array in ascending order.\n",
    "\n",
    "class Solution:\n",
    "    def sort012(self,arr,n):\n",
    "        low=0\n",
    "        high=n-1\n",
    "        mid = 0\n",
    "        \n",
    "        while mid <= high:\n",
    "            if arr[mid]==0:\n",
    "                arr[mid] , arr[low] = arr[low], arr[mid]\n",
    "                mid +=1\n",
    "                low +=1\n",
    "                \n",
    "            elif arr[mid]==1:\n",
    "                mid +=1\n",
    "            \n",
    "            else:\n",
    "                arr[mid] , arr[high] = arr[high], arr[mid]\n",
    "                high-=1\n",
    "                \n",
    "# Driver Code               \n",
    "if __name__ == '__main__':\n",
    "    t=int(input())\n",
    "    for _ in range(t):\n",
    "        n=int(input())\n",
    "        arr=[int(x) for x in input().strip().split()]\n",
    "        ob=Solution()\n",
    "        ob.sort012(arr,n)"
   ]
  },
  {
   "cell_type": "code",
   "execution_count": null,
   "id": "15b0eb26",
   "metadata": {},
   "outputs": [],
   "source": [
    "# Binary Search\n",
    "# Given a sorted array of size N and an integer K, find the position(0-based indexing) at \n",
    "# which K is present in the array using binary search.\n",
    "\n",
    "class Solution:\n",
    "    def binarysearch(self,arr, n, K):\n",
    "        left, right = 0, len(arr) - 1\n",
    "    \n",
    "        while left <= right:\n",
    "            mid = left + (right - left) // 2\n",
    "        \n",
    "            # Check if K is present at mid\n",
    "            if arr[mid] == K:\n",
    "                return mid\n",
    "            # If K is greater, ignore left half\n",
    "            elif arr[mid] < K:\n",
    "                left = mid + 1\n",
    "            # If K is smaller, ignore right half\n",
    "            else:\n",
    "                right = mid - 1\n",
    "    \n",
    "        # If we reach here, then the element was not present in the array\n",
    "        return -1\n",
    "\n",
    "# Driver Code\n",
    "if __name__ == '__main__':\n",
    "    t=int(input())\n",
    "    for i in range(t):\n",
    "        n=int(input())\n",
    "        arr=list(map(int, input().strip().split(' ')))\n",
    "        k=int(input())\n",
    "        ob = Solution()\n",
    "        print (ob.binarysearch(arr, n, k))"
   ]
  },
  {
   "cell_type": "code",
   "execution_count": null,
   "id": "1443dc88",
   "metadata": {},
   "outputs": [],
   "source": []
  }
 ],
 "metadata": {
  "kernelspec": {
   "display_name": "Python 3 (ipykernel)",
   "language": "python",
   "name": "python3"
  },
  "language_info": {
   "codemirror_mode": {
    "name": "ipython",
    "version": 3
   },
   "file_extension": ".py",
   "mimetype": "text/x-python",
   "name": "python",
   "nbconvert_exporter": "python",
   "pygments_lexer": "ipython3",
   "version": "3.11.7"
  }
 },
 "nbformat": 4,
 "nbformat_minor": 5
}
