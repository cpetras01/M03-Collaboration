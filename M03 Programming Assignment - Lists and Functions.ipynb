{
 "cells": [
  {
   "cell_type": "code",
   "execution_count": 1,
   "id": "7d53b74a",
   "metadata": {},
   "outputs": [],
   "source": [
    "# Coleman Petras\n",
    "# SDEV 220\n",
    "# M03 Programming Assingment - Lists and Functions\n",
    "# Complete the following sections: 7.4, 7.5, 7.6, 7.7, 9.1, 9.2"
   ]
  },
  {
   "cell_type": "code",
   "execution_count": 2,
   "id": "6930cbfb",
   "metadata": {},
   "outputs": [],
   "source": [
    "# 7.4 Make a list called things with these three strings as \n",
    "# elemants: \"mozzarella\", \"cinderella\", \"salmonella\"\n",
    "\n",
    "things = [\"mozzarella\", \"cinderella\", \"salmonella\"]"
   ]
  },
  {
   "cell_type": "code",
   "execution_count": 3,
   "id": "df1c7f04",
   "metadata": {},
   "outputs": [
    {
     "name": "stdout",
     "output_type": "stream",
     "text": [
      "['mozzarella', 'Cinderella', 'salmonella']\n"
     ]
    }
   ],
   "source": [
    "# 7.5 Capitaliza the element in things that refers to a person\n",
    "# and then print the list. Did it change the element in the list?\n",
    "\n",
    "things[1] = things[1].capitalize()\n",
    "print(things)\n"
   ]
  },
  {
   "cell_type": "code",
   "execution_count": 4,
   "id": "c31ea75f",
   "metadata": {},
   "outputs": [
    {
     "name": "stdout",
     "output_type": "stream",
     "text": [
      "['MOZZARELLA', 'Cinderella', 'salmonella']\n"
     ]
    }
   ],
   "source": [
    "# 7.6 Make the cheesy element of things all uppercase then print\n",
    "# the list\n",
    "\n",
    "things[0] = things[0].upper()\n",
    "print(things)"
   ]
  },
  {
   "cell_type": "code",
   "execution_count": 5,
   "id": "fb747063",
   "metadata": {},
   "outputs": [
    {
     "name": "stdout",
     "output_type": "stream",
     "text": [
      "Congratulations on deleting the disease, here is your Nobel\n",
      "['MOZZARELLA', 'Cinderella']\n"
     ]
    }
   ],
   "source": [
    "# 7.7 delete the disease element from things, collect your\n",
    "# Nobel Prize, and print the list\n",
    "\n",
    "things.remove(\"salmonella\")\n",
    "print(\"Congratulations on deleting the disease, here is your Nobel\")\n",
    "print(things)"
   ]
  },
  {
   "cell_type": "code",
   "execution_count": 6,
   "id": "b8131f9e",
   "metadata": {},
   "outputs": [
    {
     "name": "stdout",
     "output_type": "stream",
     "text": [
      "['Harry', 'Ron', 'Hermione']\n"
     ]
    }
   ],
   "source": [
    "# 9.1 Define a function called good() that returns the following\n",
    "# list: ['Harry', 'Ron', Hermione]\n",
    "\n",
    "def good():\n",
    "    list = ['Harry', 'Ron', 'Hermione']\n",
    "    print(list)\n",
    "    \n",
    "good()"
   ]
  },
  {
   "cell_type": "code",
   "execution_count": 7,
   "id": "d8bb063a",
   "metadata": {},
   "outputs": [
    {
     "name": "stdout",
     "output_type": "stream",
     "text": [
      "The third value in the list is: 5\n"
     ]
    }
   ],
   "source": [
    "# Define a generator Function called get_odds() that returns \n",
    "# the odd numbers from range(10). Use a for loop to find and \n",
    "# print the third value returned.\n",
    "\n",
    "def get_odds(first = 0, last = 10, step = 1):\n",
    "    number = first\n",
    "    number_list = []\n",
    "    for number in range(last):\n",
    "        if number % 2 != 0:\n",
    "            number_list.append(number)\n",
    "            number += step\n",
    "        else:\n",
    "            number += step\n",
    "    print(\"The third value in the list is:\",number_list[2])\n",
    "    \n",
    "get_odds()\n",
    "    \n",
    "        \n",
    "            \n",
    "        "
   ]
  },
  {
   "cell_type": "code",
   "execution_count": null,
   "id": "2824d424",
   "metadata": {},
   "outputs": [],
   "source": []
  }
 ],
 "metadata": {
  "kernelspec": {
   "display_name": "Python 3 (ipykernel)",
   "language": "python",
   "name": "python3"
  },
  "language_info": {
   "codemirror_mode": {
    "name": "ipython",
    "version": 3
   },
   "file_extension": ".py",
   "mimetype": "text/x-python",
   "name": "python",
   "nbconvert_exporter": "python",
   "pygments_lexer": "ipython3",
   "version": "3.11.7"
  }
 },
 "nbformat": 4,
 "nbformat_minor": 5
}
